{
 "cells": [
  {
   "metadata": {
    "ExecuteTime": {
     "end_time": "2025-05-25T20:22:16.920542Z",
     "start_time": "2025-05-25T20:22:16.286820Z"
    }
   },
   "cell_type": "code",
   "source": [
    "import sys\n",
    "from pathlib import Path\n",
    "\n",
    "# Let notebook find files in ../src\n",
    "sys.path.append(str(Path(\"..\") / \"src\"))\n",
    "\n",
    "from html_parser import parse_html\n",
    "from feature_extraction import extract_features\n",
    "from joblib import load\n"
   ],
   "id": "37e9110b914887bd",
   "outputs": [],
   "execution_count": 1
  },
  {
   "metadata": {
    "ExecuteTime": {
     "end_time": "2025-05-25T20:22:18.510749Z",
     "start_time": "2025-05-25T20:22:18.506736Z"
    }
   },
   "cell_type": "code",
   "source": [
    "# Point this to your new downloaded HTML file\n",
    "HTML_PATH = Path(\"../data/html/crab-cakes.html\")  # <- update this\n",
    "html = HTML_PATH.read_text(encoding=\"utf-8\")"
   ],
   "id": "fddba023360a03a5",
   "outputs": [],
   "execution_count": 2
  },
  {
   "metadata": {
    "ExecuteTime": {
     "end_time": "2025-05-25T20:25:05.607261Z",
     "start_time": "2025-05-25T20:24:55.736929Z"
    }
   },
   "cell_type": "code",
   "source": [
    "elements = parse_html(html)\n",
    "features = extract_features(elements)\n",
    "model = load(\"../models/model.joblib\")\n",
    "text_features = [f['raw'] for f in features]\n",
    "preds = model.predict(text_features)\n"
   ],
   "id": "c275be8df50eca25",
   "outputs": [],
   "execution_count": 7
  },
  {
   "metadata": {
    "ExecuteTime": {
     "end_time": "2025-05-25T20:25:45.717812Z",
     "start_time": "2025-05-25T20:25:16.785960Z"
    }
   },
   "cell_type": "code",
   "source": [
    "structured = {\"title\": None, \"ingredients\": [], \"directions\": []}\n",
    "for el, label in zip(elements, preds):\n",
    "    if label == \"title\" and not structured[\"title\"]:\n",
    "        structured[\"title\"] = el[\"text\"]\n",
    "    elif label == \"ingredient\":\n",
    "        structured[\"ingredients\"].append(el[\"text\"])\n",
    "    elif label == \"direction\":\n",
    "        structured[\"directions\"].append(el[\"text\"])\n"
   ],
   "id": "9c2103e3b2e123f6",
   "outputs": [],
   "execution_count": 8
  },
  {
   "metadata": {
    "ExecuteTime": {
     "end_time": "2025-05-25T20:25:49.624304Z",
     "start_time": "2025-05-25T20:25:49.620564Z"
    }
   },
   "cell_type": "code",
   "source": [
    "import pprint\n",
    "pprint.pprint(structured)\n"
   ],
   "id": "bdd87c774408dbc0",
   "outputs": [
    {
     "name": "stdout",
     "output_type": "stream",
     "text": [
      "{'directions': ['Pin',\n",
      "                'To begin, combine the eggs, mayonnaise, Dijon mustard, '\n",
      "                'Worcestershire, Old Bay, salt, celery, and parsley in a bowl.',\n",
      "                'Mix well to combine.',\n",
      "                'Add the crab meat, making sure to check for any hard and '\n",
      "                'sharp cartilage as you go, along with the panko.',\n",
      "                'Shape into 6 large cakes about ½ cup each, and place on a '\n",
      "                'foil-lined baking sheet for easy cleanup. Then cover and '\n",
      "                'refrigerate for at least 1 hour. This step is really '\n",
      "                'important to help the crab cakes set, otherwise they may fall '\n",
      "                'apart a bit when you cook them.',\n",
      "                'Preheat a large nonstick pan to medium heat and coat with '\n",
      "                'oil. When the oil is hot, place crab cakes in the pan and '\n",
      "                'cook until golden brown, about 3 to 5 minutes.',\n",
      "                'Flip and cook 3 to 5 minutes more, or until golden. Be '\n",
      "                'careful as the oil may splatter.',\n",
      "                'Next, make the tartar sauce by combining the mayonnaise, '\n",
      "                'Dijon mustard, sweet pickle relish, red onion, lemon, salt, '\n",
      "                'and pepper in a small bowl.',\n",
      "                'Whisk well, then cover and chill until ready to serve.',\n",
      "                'Crispy Pan Fried Fish Fingers',\n",
      "                'Makes 6 large crab cakes',\n",
      "                '30 Minutes',\n",
      "                '10 Minutes',\n",
      "                '40 Minutes',\n",
      "                ', plus at least 1 hour to let the crab cakes set',\n",
      "                'Worcestershire sauce',\n",
      "                'finely diced celery, from one stalk',\n",
      "                'Instructions',\n",
      "                'Combine the eggs, mayonnaise, Dijon mustard, Worcestershire, '\n",
      "                'Old Bay, salt, celery, and parsley in a large bowl and mix '\n",
      "                'well. Add the crab meat (be sure to check the meat for any '\n",
      "                'hard and sharp cartilage) and panko; using a rubber spatula, '\n",
      "                'gently fold the mixture together until just combined, being '\n",
      "                'careful not to shred the crab meat. Shape into 6 cakes (each '\n",
      "                'about ½ cup) and place on the prepared baking sheet. Cover '\n",
      "                'and refrigerate for at least 1 hour. This helps them set.',\n",
      "                'Preheat a large nonstick pan over medium heat and coat with '\n",
      "                'oil. When the oil is hot, place the crab cakes in the pan and '\n",
      "                'cook until golden brown, 3 to 5 minutes per side. Be careful '\n",
      "                'as oil may splatter. Serve the crab cakes warm with the '\n",
      "                'tartar sauce.',\n",
      "                'In a small bowl, whisk together the mayonnaise, relish, '\n",
      "                'mustard, onion, and lemon juice. Season with salt and pepper, '\n",
      "                'to taste. Cover and chill until ready to serve.',\n",
      "                'Make-Ahead Instructions:',\n",
      "                'The crab cakes can be formed, covered, and refrigerated a day '\n",
      "                'ahead of time before cooking. The tartar sauce can be made '\n",
      "                'and refrigerated up to 2 days in advance.',\n",
      "                'If you can only find jumbo lump crab meat, you may need to '\n",
      "                'break the pieces up a bit. If the clumps are too large, the '\n",
      "                \"crab cakes won't hold together well.\",\n",
      "                'If you want to use Half the crab, I’d cut all of the '\n",
      "                'ingredients in half.',\n",
      "                'Pin'],\n",
      " 'ingredients': ['large eggs',\n",
      "                 'salt',\n",
      "                 'finely chopped fresh parsley',\n",
      "                 'Vegetable or canola oil, for cooking',\n",
      "                 '1 tablespoon',\n",
      "                 'minced red onion',\n",
      "                 'lemon juice, to taste',\n",
      "                 'Salt and freshly ground black pepper, to taste',\n",
      "                 'French Green Beans',\n",
      "                 'Deviled Eggs'],\n",
      " 'title': None}\n"
     ]
    }
   ],
   "execution_count": 9
  }
 ],
 "metadata": {
  "kernelspec": {
   "display_name": "Python 3",
   "language": "python",
   "name": "python3"
  },
  "language_info": {
   "codemirror_mode": {
    "name": "ipython",
    "version": 2
   },
   "file_extension": ".py",
   "mimetype": "text/x-python",
   "name": "python",
   "nbconvert_exporter": "python",
   "pygments_lexer": "ipython2",
   "version": "2.7.6"
  }
 },
 "nbformat": 4,
 "nbformat_minor": 5
}
