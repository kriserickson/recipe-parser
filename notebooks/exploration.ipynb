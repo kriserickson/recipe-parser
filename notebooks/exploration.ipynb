{
 "cells": [
  {
   "metadata": {},
   "cell_type": "code",
   "source": [
    "# Setup for the notebook\n",
    "import sys\n",
    "from pathlib import Path\n",
    "\n",
    "# Let notebook find files in ../src\n",
    "sys.path.append(str(Path(\"..\") / \"src\"))\n",
    "\n",
    "from feature_extraction import extract_features\n",
    "from html_parser import parse_html\n",
    "from joblib import load\n",
    "\n",
    "# Point this to your new downloaded HTML file\n",
    "HTML_PATH = Path(\"../data/html/crab-cakes.html\")  # <- update this\n",
    "html = HTML_PATH.read_text(encoding=\"utf-8\")"
   ],
   "id": "37e9110b914887bd",
   "outputs": [],
   "execution_count": null
  },
  {
   "metadata": {},
   "cell_type": "code",
   "source": [
    "#parse the data\n",
    "elements = parse_html(html)\n",
    "text_features = []\n",
    "\n",
    "for idx, el in  enumerate(elements):\n",
    "    text_elem = el.get(\"text\", \"\").strip()\n",
    "    text_features.append(text_elem)\n",
    "    features = extract_features(el, text_elem, elements, idx)\n",
    "\n",
    "model = load(\"../models/model.joblib\")\n",
    "preds = model.predict(text_features)\n"
   ],
   "id": "c275be8df50eca25",
   "outputs": [],
   "execution_count": null
  },
  {
   "metadata": {},
   "cell_type": "code",
   "source": [
    "structured = {\"title\": None, \"ingredients\": [], \"directions\": []}\n",
    "for el, label in zip(elements, preds):\n",
    "    if label == \"title\" and not structured[\"title\"]:\n",
    "        structured[\"title\"] = el[\"text\"]\n",
    "    elif label == \"ingredient\":\n",
    "        structured[\"ingredients\"].append(el[\"text\"])\n",
    "    elif label == \"direction\":\n",
    "        structured[\"directions\"].append(el[\"text\"])\n",
    "\n",
    "import pprint\n",
    "pprint.pprint(structured)"
   ],
   "id": "9c2103e3b2e123f6",
   "outputs": [],
   "execution_count": null
  }
 ],
 "metadata": {
  "kernelspec": {
   "display_name": "Python 3",
   "language": "python",
   "name": "python3"
  },
  "language_info": {
   "codemirror_mode": {
    "name": "ipython",
    "version": 2
   },
   "file_extension": ".py",
   "mimetype": "text/x-python",
   "name": "python",
   "nbconvert_exporter": "python",
   "pygments_lexer": "ipython2",
   "version": "2.7.6"
  }
 },
 "nbformat": 4,
 "nbformat_minor": 5
}
